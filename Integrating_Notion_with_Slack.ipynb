{
  "nbformat": 4,
  "nbformat_minor": 0,
  "metadata": {
    "colab": {
      "provenance": []
    },
    "kernelspec": {
      "name": "python3",
      "display_name": "Python 3"
    },
    "language_info": {
      "name": "python"
    }
  },
  "cells": [
    {
      "cell_type": "code",
      "execution_count": null,
      "metadata": {
        "id": "1JE0tLtCPfre"
      },
      "outputs": [],
      "source": [
        "!pip install slack_bolt slack_sdk langgraph langchain google-generativeai langchain_google_genai python-dotenv notion-client\n"
      ]
    },
    {
      "cell_type": "code",
      "source": [
        "%%writefile .env\n",
        "SLACK_BOT_TOKEN=token\n",
        "SLACK_SIGNING_SECRET=secret\n",
        "GOOGLE_API_KEY=API\n",
        "NOTION_API_KEY=API\n",
        "SLACK_APP_TOKEN=token"
      ],
      "metadata": {
        "id": "AAoH2w-nPv-e"
      },
      "execution_count": null,
      "outputs": []
    },
    {
      "cell_type": "code",
      "source": [
        "import os\n",
        "from dotenv import load_dotenv\n",
        "\n",
        "load_dotenv()  # Load from .env file\n",
        "\n",
        "# Slack credentials\n",
        "SLACK_BOT_TOKEN = os.getenv(\"SLACK_BOT_TOKEN\")\n",
        "SLACK_SIGNING_SECRET = os.getenv(\"SLACK_SIGNING_SECRET\")\n",
        "\n",
        "# Google Gemini API key\n",
        "GOOGLE_API_KEY = os.getenv(\"GOOGLE_API_KEY\")\n",
        "\n",
        "# Notion API key\n",
        "NOTION_API_KEY = os.getenv(\"NOTION_API_KEY\")\n",
        "\n",
        "\n",
        "SOCKET_MODE_APP_TOKEN = os.getenv(\"SLACK_APP_TOKEN\")\n",
        "\n",
        "# Import Slack Bolt\n",
        "from slack_bolt import App\n",
        "from slack_bolt.adapter.socket_mode import SocketModeHandler\n",
        "\n",
        "# LangGraph and LangChain\n",
        "from langgraph.graph import StateGraph\n",
        "from langchain_core.messages import HumanMessage, BaseMessage\n",
        "from langchain_google_genai import ChatGoogleGenerativeAI\n",
        "from typing import List, TypedDict\n",
        "\n",
        "# Notion client\n",
        "from notion_client import Client\n",
        "\n",
        "# Initialize Notion client\n",
        "notion = Client(auth=NOTION_API_KEY)\n",
        "\n",
        "# Initialize Gemini LLM (Gemini 1.5 Flash)\n",
        "llm = ChatGoogleGenerativeAI(\n",
        "    model=\"gemini-1.5-flash-latest\",\n",
        "    google_api_key=GOOGLE_API_KEY,\n",
        "    temperature=0.7,\n",
        ")\n",
        "\n",
        "# Verify environment variables are loaded\n",
        "assert SLACK_BOT_TOKEN, \"Missing SLACK_BOT_TOKEN\"\n",
        "assert SLACK_SIGNING_SECRET, \"Missing SLACK_SIGNING_SECRET\"\n",
        "assert GOOGLE_API_KEY, \"Missing GOOGLE_API_KEY\"\n",
        "assert NOTION_API_KEY, \"Missing NOTION_API_KEY\"\n"
      ],
      "metadata": {
        "id": "XdSL8crKQUHr"
      },
      "execution_count": null,
      "outputs": []
    },
    {
      "cell_type": "code",
      "source": [
        "class ChatState(TypedDict):\n",
        "    messages: List[BaseMessage]\n",
        "\n",
        "def get_all_notion_pages_summary(notion_client: Client, max_pages=5) -> str:\n",
        "    response = notion_client.search(filter={\"property\": \"object\", \"value\": \"page\"})\n",
        "    pages = response.get(\"results\", [])[:max_pages]\n",
        "\n",
        "    titles = []\n",
        "    for page in pages:\n",
        "        props = page.get(\"properties\", {})\n",
        "        title = None\n",
        "        if \"title\" in props and props[\"title\"].get(\"title\"):\n",
        "            title = props[\"title\"][\"title\"][0][\"plain_text\"]\n",
        "        else:\n",
        "            # fallback to page id if no title property found\n",
        "            title = page.get(\"id\")\n",
        "\n",
        "        if title:\n",
        "            titles.append(title)\n",
        "\n",
        "    if not titles:\n",
        "        return \"No Notion pages found in your workspace.\"\n",
        "\n",
        "    return \"Here are some Notion pages: \" + \", \".join(titles)\n",
        "\n",
        "\n"
      ],
      "metadata": {
        "id": "MgD-6SnwQbZx"
      },
      "execution_count": null,
      "outputs": []
    },
    {
      "cell_type": "code",
      "source": [
        "summary = get_all_notion_pages_summary(notion, max_pages=2)\n",
        "print(summary)"
      ],
      "metadata": {
        "id": "Ylnk2caZQ9QP"
      },
      "execution_count": null,
      "outputs": []
    },
    {
      "cell_type": "code",
      "source": [
        "def respond_to_user_with_notion_pages(state: ChatState) -> ChatState:\n",
        "    messages = state.get(\"messages\", [])\n",
        "    user_msg = messages[-1] if messages else None\n",
        "\n",
        "    notion_summary = get_all_notion_pages_summary(notion, max_pages=5)\n",
        "\n",
        "    prompt = f\"{user_msg.content if user_msg else ''}\\n\\nAdditional context from your Notion workspace:\\n{notion_summary}\"\n",
        "\n",
        "    response = llm.invoke([HumanMessage(content=prompt)])\n",
        "\n",
        "    messages.append(response)\n",
        "    return {\"messages\": messages}\n"
      ],
      "metadata": {
        "id": "b34X44UpT5Af"
      },
      "execution_count": null,
      "outputs": []
    },
    {
      "cell_type": "code",
      "source": [
        "workflow = StateGraph(ChatState)\n",
        "workflow.add_node(\"respond\", respond_to_user_with_notion_pages)\n",
        "workflow.set_entry_point(\"respond\")\n",
        "workflow.set_finish_point(\"respond\")\n",
        "graph = workflow.compile()\n"
      ],
      "metadata": {
        "id": "VHYoMOcPUCe7"
      },
      "execution_count": null,
      "outputs": []
    },
    {
      "cell_type": "code",
      "source": [
        "app = App(token=SLACK_BOT_TOKEN, signing_secret=SLACK_SIGNING_SECRET)\n",
        "\n",
        "@app.event(\"app_mention\")\n",
        "def handle_mention(event, say):\n",
        "    user_input = event[\"text\"].split(\">\", 1)[-1].strip()\n",
        "    user_msg = HumanMessage(content=user_input)\n",
        "\n",
        "    # Run LangGraph with initial user message\n",
        "    result = graph.invoke({\"messages\": [user_msg]})\n",
        "\n",
        "    bot_reply = result[\"messages\"][-1].content\n",
        "\n",
        "    say(bot_reply)\n"
      ],
      "metadata": {
        "id": "6qHbgvFfUJvq"
      },
      "execution_count": null,
      "outputs": []
    },
    {
      "cell_type": "code",
      "source": [
        "if __name__ == \"__main__\":\n",
        "    print(\"🤖 Slack bot running with Gemini 1.5 Flash + Notion integration...\")\n",
        "    try:\n",
        "        handler = SocketModeHandler(app, app_token=SOCKET_MODE_APP_TOKEN)\n",
        "        handler.start()\n",
        "    except KeyboardInterrupt:\n",
        "        print(\"\\n🛑 Slack bot stopped manually.\")\n",
        "    except Exception as e:\n",
        "        print(f\"❌ Error starting Slack bot: {e}\")\n",
        "\n",
        "\n"
      ],
      "metadata": {
        "id": "NLe5vA5dUOFp"
      },
      "execution_count": null,
      "outputs": []
    }
  ]
}